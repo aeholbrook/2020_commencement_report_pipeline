{
  "nbformat": 4,
  "nbformat_minor": 0,
  "metadata": {
    "colab": {
      "name": "mash_scraper.ipynb",
      "provenance": [],
      "collapsed_sections": [],
      "authorship_tag": "ABX9TyPGSImfyNTpXs/hxFB/8AsQ",
      "include_colab_link": true
    },
    "kernelspec": {
      "name": "python3",
      "display_name": "Python 3"
    },
    "language_info": {
      "name": "python"
    }
  },
  "cells": [
    {
      "cell_type": "markdown",
      "metadata": {
        "id": "view-in-github",
        "colab_type": "text"
      },
      "source": [
        "<a href=\"https://colab.research.google.com/github/aeholbrook/2020_commencement_report_pipeline/blob/main/mash_scraper.ipynb\" target=\"_parent\"><img src=\"https://colab.research.google.com/assets/colab-badge.svg\" alt=\"Open In Colab\"/></a>"
      ]
    },
    {
      "cell_type": "code",
      "metadata": {
        "id": "MXG_xyXk5fTj"
      },
      "source": [
        "!sudo apt-get update -q\n",
        "!sudo apt-get install iputils-ping -q"
      ],
      "execution_count": null,
      "outputs": []
    },
    {
      "cell_type": "code",
      "metadata": {
        "id": "hmJniO-hqbgf"
      },
      "source": [
        "import json\n",
        "from bs4 import BeautifulSoup\n",
        "import requests\n",
        "import pandas as pd\n",
        "from tqdm import tqdm \n",
        "import numpy as np\n",
        "import concurrent.futures\n",
        "import time"
      ],
      "execution_count": 1,
      "outputs": []
    },
    {
      "cell_type": "code",
      "metadata": {
        "id": "muxHsyGnoptc"
      },
      "source": [
        "def load_url(url, timeout):\n",
        "    #time1 = time.time()\n",
        "    ans = requests.get(url, timeout=timeout, headers={'User-Agent': 'Mozilla/5.0','Content-Range': '5499-5500'})\n",
        "    #time2 = time.time()\n",
        "    #print(\"request_time:\", time2-time1)\n",
        "    return (ans,url)\n",
        "\n",
        "def parse_brew_data(response, href, url_base=\"https://www.brewersfriend.com\"):\n",
        "\n",
        "  soup_2 = BeautifulSoup(response.text, \"html.parser\")\n",
        "\n",
        "  name = soup_2.find(\"h3\",{\"itemprop\":\"name\"})\n",
        "  name = (name.prettify().split(\"\\n\")[1][1:] if name != None else \"NaN\")\n",
        "\n",
        "  style = soup_2.find(\"span\",{\"class\":\"viewStats\"})\n",
        "  style = (style.prettify().split(\"\\n\")[5][2:] if style != None else \"NaN\")\n",
        "\n",
        "  abv = soup_2.find(\"div\",{\"class\":\"abvMin\"})\n",
        "  abv = (abv.prettify().split(\"\\n\")[1][1:-1] if abv != None else \"NaN\")\n",
        "\n",
        "  ibu = soup_2.find(\"div\",{\"class\":\"ibuMin\"})\n",
        "  ibu = (ibu.prettify().split(\"\\n\")[1][1:] if ibu != None else \"NaN\")\n",
        "\n",
        "  srm = soup_2.find(\"div\",{\"class\":\"srmMin\"})\n",
        "  srm = (srm.prettify().split(\"\\n\")[1][1:] if srm != None else \"NaN\")\n",
        "\n",
        "  score = soup_2.find(\"div\",{\"class\":\"reviews\"})\n",
        "  score = (score.prettify().split(\"\\n\")[25][3:] if score != None else \"NaN\" )\n",
        "\n",
        "  reviews = soup_2.find(\"div\",{\"class\":\"reviews\"})\n",
        "  reviews = (reviews.prettify().split(\"\\n\")[29][3:] if reviews != None else \"NaN\")\n",
        "  \n",
        "  try:\n",
        "    df_list = pd.read_html(response.content) # this parses all the tables in webpages to a list\n",
        "    fermentables = df_list[0][:-1].replace({'%':''}, regex=True)\n",
        "    hops = df_list[1][:-1].replace({'%':''}, regex=True)\n",
        "    other = df_list[3]\n",
        "  except:\n",
        "    fermentables=None\n",
        "    hops = None\n",
        "    other = None\n",
        "\n",
        "  return { \n",
        "    \"name\" : name,\n",
        "    \"style\" : style,\n",
        "    \"ABV\" : abv,\n",
        "    \"IBU\" : ibu,\n",
        "    \"SRM\" : srm,\n",
        "    \"score\" : score,\n",
        "    \"reviews\" : reviews,\n",
        "    \"fermentables\" : fermentables,\n",
        "    \"hops\" : hops,\n",
        "    \"other\" : other,\n",
        "    \"link\" : href\n",
        "    }\n",
        "\n",
        "def get_brew_data(hrefs, url_base=\"https://www.brewersfriend.com\"): \n",
        "\n",
        "  #desc = \"Collecting data from page \" + str(page_number)\n",
        "\n",
        "  out = []\n",
        "  hrefs_split = np.array_split(hrefs,4)\n",
        "\n",
        "  for hrefs in hrefs_split:\n",
        "    with concurrent.futures.ThreadPoolExecutor(max_workers=5) as executor:\n",
        "      future_to_url = (executor.submit(load_url, url_base+href, 300) for href in hrefs)\n",
        "      #time1 = time.time()\n",
        "      out.extend([future.result() for future in concurrent.futures.as_completed(future_to_url)])\n",
        "      #time2 = time.time()\n",
        "\n",
        "  #print(f'\\n Took {time2-time1:.2f} s')\n",
        "  \n",
        "\n",
        "  brew_data = [parse_brew_data(response[0], response[1], url_base) for response in out]\n",
        "\n",
        "  return brew_data\n",
        "\n",
        "def iterate_hrefs(start=1,stop=2):\n",
        "\n",
        "  url_base = \"https://www.brewersfriend.com\"\n",
        "  with concurrent.futures.ThreadPoolExecutor(max_workers=3) as executor:\n",
        "    future_to_url = (executor.submit(load_url, url_base+'/homebrew-recipes/page/'+str(page_number), 100) for page_number in range(start,stop+1))\n",
        "    \n",
        "    href_list = [[item.get('href') \n",
        "      for item in BeautifulSoup(data.result()[0].text, \n",
        "      \"html.parser\").find_all(\"a\", {\"class\": \"recipetitle\"})] \n",
        "      for data in concurrent.futures.as_completed(future_to_url)]\n",
        "\n",
        "  return np.concatenate([get_brew_data(hrefs) for hrefs in tqdm(href_list,desc=str(\"Reading pages \"+str(start)+\" to \"+str(stop)),position=0)])\n",
        "  "
      ],
      "execution_count": 124,
      "outputs": []
    },
    {
      "cell_type": "code",
      "metadata": {
        "colab": {
          "base_uri": "https://localhost:8080/"
        },
        "id": "QVdwPPN1ZJbo",
        "outputId": "f607cc9a-ba9a-4621-dd20-a9d3e1c7fbbd"
      },
      "source": [
        "test = iterate_hrefs(1,1)"
      ],
      "execution_count": 125,
      "outputs": [
        {
          "output_type": "stream",
          "text": [
            "Reading pages 1 to 1: 100%|██████████| 1/1 [01:01<00:00, 61.83s/it]\n"
          ],
          "name": "stderr"
        }
      ]
    },
    {
      "cell_type": "code",
      "metadata": {
        "colab": {
          "base_uri": "https://localhost:8080/"
        },
        "id": "JWoQ-8AzF8wu",
        "outputId": "6d53daaa-b840-4718-8927-21822d7a5a97"
      },
      "source": [
        "print(([float(item[('IBU')]) for item in test_2]))\n",
        "\n",
        "print([item['fermentables'].size for item in test_2])"
      ],
      "execution_count": 76,
      "outputs": [
        {
          "output_type": "stream",
          "text": [
            "[61.25, 10.77, 14.69, 47.13, 83.71, 18.92, 20.8, 59.97, 28.21, 14.81, 126.11, 33.46, 21.99, 23.49, 38.31, 27.34, 27.0, 56.68, 42.38, 23.57, 59.26, 62.42, 19.44, 39.79, 232.89, 70.18, 50.22, 21.27, 31.36, 98.09, 18.54, 63.62, 36.45, 41.11, 55.96, 45.32, 69.72, 71.54, 22.81, 64.26, 52.15, 72.32, 40.9, 51.93, 33.9, 54.51, 68.21, 33.0, 98.86, 24.28, 22.6, 35.43, 30.71, 34.83, 40.7, 38.07, 42.53, 77.09, 69.23, 23.57, 10.12, 34.21, 72.7, 28.56, 19.6, 26.69, 34.91, 12.18, 29.03, 123.51, 105.67, 67.25, 32.49, 24.96, 70.13, 26.45, 32.02, 28.69, 18.9, 89.8, 36.24, 16.26, 60.4, 33.02, 23.21, 62.68, 56.83, 93.0, 10.24, 15.61, 11.99, 14.7, 27.74, 27.41, 43.53, 12.35, 35.03, 113.05, 16.6, 69.25, 16.79, 24.66, 34.94, 26.46, 0.0, 49.47, 77.71, 17.39, 20.0, 87.48, 41.97, 52.44, 22.25, 38.2, 22.93, 31.75, 25.55, 73.29, 35.01, 33.67, 75.05, 28.22, 46.15, 25.48, 36.65, 33.4, 93.98, 67.07, 26.8, 33.99, 36.3, 54.32, 5.04, 22.58, 105.36, 60.95, 33.48, 20.26, 74.52, 54.52, 59.62, 34.0, 19.2, 81.59, 13.95, 24.71, 23.99, 10.91, 90.73, 17.78, 54.88, 66.45, 39.32, 35.09, 44.4, 1.39, 14.0, 34.5, 75.42, 23.02, 8.74, 162.63, 23.65, 14.35, 27.86, 19.73, 30.83, 32.18, 12.13, 40.55, 50.84, 43.24, 15.99, 49.96, 22.94, 25.71, 37.53, 92.4, 31.25, 25.27, 34.79, 63.46, 23.49, 12.88, 141.73, 30.76, 52.81, 27.49, 0.0, 60.0, 64.51, 16.77, 25.16, 54.0, 33.39, 35.4, 26.61, 6.13, 35.35, 94.45, 30.99, 30.03, 77.73, 13.92, 17.45, 36.05, 14.74, 34.98, 27.73, 65.45, 31.36, 18.1, 34.19, 99.32, 67.34, 29.19, 63.57, 96.32, 25.46, 30.29, 0.0, 48.24, 30.55, 67.28, 28.38, 30.66, 76.19, 26.24, 17.68, 8.74, 35.75, 22.92, 14.92, 44.19, 35.3, 88.17, 39.87, 51.23, 31.94, 37.64, 13.37, 19.97, 49.61, 71.88, 35.2, 58.86, 15.37, 64.6, 54.52, 20.51, 35.82, 30.84, 36.39, 11.48, 40.21, 10.82, 55.93, 60.07, 22.37, 19.33, 30.16, 27.79, 13.37, 65.77, 68.13, 37.88, 84.16, 48.9, 44.78, 37.79, 35.6, 41.72, 53.62, 0.0, 51.8, 83.49, 63.67, 17.74, 45.79, 34.85, 28.95, 67.12, 35.38, 31.51, 11.34, 42.8, 58.54, 53.4, 40.08, 80.6, 67.53, 72.81, 59.05, 36.92, 42.99, 56.13, 65.83, 37.36, 24.0, 11.24, 42.81, 36.64, 73.43, 36.77, 43.4, 16.35, 99.3, 36.2, 0.54, 25.4, 41.9, 19.33, 110.97, 44.3, 29.95, 81.96, 80.21, 25.52, 23.4, 30.94, 11.84, 19.57, 80.38, 20.73, 21.65, 22.58, 29.47, 25.82, 80.54, 36.59, 43.91, 0.0, 34.96, 20.14, 61.78, 81.05, 68.05, 55.69, 36.22, 13.1]\n",
            "[18, 12, 30, 18, 18, 24, 24, 24, 24, 24, 24, 18, 18, 12, 30, 18, 30, 24, 12, 12, 24, 30, 48, 12, 24, 6, 24, 36, 54, 24, 18, 18, 24, 18, 24, 12, 24, 18, 36, 24, 36, 30, 18, 30, 36, 24, 36, 12, 24, 12, 12, 18, 36, 6, 6, 12, 48, 36, 30, 24, 24, 6, 36, 18, 30, 24, 36, 18, 36, 24, 18, 18, 12, 24, 18, 12, 6, 48, 24, 24, 30, 18, 24, 18, 24, 30, 48, 18, 6, 18, 18, 30, 18, 30, 12, 18, 18, 24, 36, 36, 30, 42, 36, 18, 24, 18, 12, 30, 18, 48, 24, 24, 18, 30, 30, 30, 18, 30, 18, 24, 42, 36, 36, 30, 18, 42, 36, 54, 36, 12, 18, 30, 18, 18, 24, 36, 24, 18, 36, 30, 12, 36, 12, 24, 30, 12, 6, 18, 36, 12, 30, 54, 18, 24, 36, 18, 18, 24, 30, 24, 18, 30, 24, 42, 30, 24, 6, 36, 36, 12, 66, 24, 54, 36, 12, 24, 18, 18, 24, 24, 18, 6, 6, 42, 30, 18, 6, 6, 12, 18, 30, 24, 30, 30, 18, 12, 30, 12, 48, 30, 6, 48, 30, 18, 18, 18, 12, 18, 18, 36, 24, 12, 18, 24, 18, 30, 24, 42, 36, 42, 12, 6, 12, 30, 12, 18, 12, 36, 12, 18, 36, 24, 30, 36, 30, 12, 6, 18, 6, 6, 36, 30, 30, 12, 36, 24, 18, 42, 24, 24, 36, 24, 42, 12, 42, 6, 78, 6, 36, 24, 36, 30, 18, 18, 24, 12, 36, 42, 24, 36, 48, 36, 24, 12, 24, 48, 24, 18, 42, 12, 18, 30, 30, 18, 24, 36, 24, 12, 18, 24, 18, 30, 6, 36, 24, 24, 24, 12, 24, 12, 30, 24, 24, 18, 42, 6, 36, 36, 24, 18, 78, 12, 12, 18, 42, 30, 18, 24, 18, 24, 24, 18, 42, 12, 18, 30, 36, 12, 30, 18, 30, 24, 18, 48, 24, 24, 12, 12, 24, 36]\n"
          ],
          "name": "stdout"
        }
      ]
    },
    {
      "cell_type": "code",
      "metadata": {
        "id": "UBGNX38mkw22",
        "colab": {
          "base_uri": "https://localhost:8080/"
        },
        "outputId": "793cc607-5083-4b7d-9feb-3c0d352c8426"
      },
      "source": [
        "asdf = test_2[np.where([thing[\"reviews\"]!=\"NaN\" for thing in test_2])]\n",
        "print(len(test_2[np.where([int(test[\"reviews\"])>3 for test in asdf])]))\n",
        "\n",
        "asdf2 = test_2[np.where([\"\" in thing[\"hops\"] for thing in test_2])]\n",
        "print(len(asdf2))"
      ],
      "execution_count": 264,
      "outputs": [
        {
          "output_type": "stream",
          "text": [
            "24\n",
            "0\n"
          ],
          "name": "stdout"
        }
      ]
    },
    {
      "cell_type": "code",
      "metadata": {
        "colab": {
          "base_uri": "https://localhost:8080/"
        },
        "id": "FDwy4Mzek2na",
        "outputId": "930e4a88-e548-4419-dc38-eb3130aff7b4"
      },
      "source": [
        "nom = np.unique([item[\"score\"] for item in filter(lambda i: i[\"score\"] != \"NaN\",test_2)])\n",
        "print(nom)"
      ],
      "execution_count": 476,
      "outputs": [
        {
          "output_type": "stream",
          "text": [
            "['1.00' '2.00' '3.00' '3.75' '3.80' '4.00' '4.33' '4.50' '4.67' '4.69'\n",
            " '4.70' '4.71' '4.76' '4.79' '4.80' '4.82' '4.88' '5.00']\n"
          ],
          "name": "stdout"
        }
      ]
    },
    {
      "cell_type": "code",
      "metadata": {
        "colab": {
          "base_uri": "https://localhost:8080/"
        },
        "id": "60YSKZo_M5bJ",
        "outputId": "e0f2df34-826c-41ed-aefa-f8c078ded768"
      },
      "source": [
        "asdfg = np.unique(np.concatenate([item['fermentables'][item['fermentables'].columns[1]] for item in test_2]))\n",
        "asdfg_old = len(asdfg)\n",
        "fermentables_pipeline = [\n",
        "  lambda x: string.capwords(x),\n",
        "  lambda x: x.replace(\" - \",\" \"),\n",
        "  lambda x: \"Caramel / Crystal\" if \"Caramel / Crystal\" in x else x,\n",
        "  lambda x: \"Caramel / Crystal\" if \"/crystal\" in x else x,\n",
        "  lambda x: \"Crystal\" if \"Crystal \" in x else x,\n",
        "  lambda x: \"Carapils\" if \"Carapils\" in x else x,\n",
        "  lambda x: \"Candi\" if \"Candi\" in x else x,\n",
        "  lambda x: \"Munich\" if \"Munich\" in x else x,\n",
        "  lambda x: \"Milk Sugar\" if \"Lactose\" in x else x,\n",
        "  lambda x: \"Sucrose\" if \"Sucrose\" in x else x,\n",
        "  lambda x: \"Apple\" if \"Apple\" in x else x,\n",
        "  lambda x: \"Caramunich\" if \"Caramunich\" in x else x,\n",
        "  lambda x: \"Pale Malt\" if \"Pale Malt\" in x else x,\n",
        "  lambda x: \"Pilsner\" if \"Pilsner\" in x else x,\n",
        "  lambda x: \"Roasted Barley\" if \"Roasted Barley\" in x else x,\n",
        "  lambda x: \"Wheat\" if \"Wheat\" in x else x,\n",
        "  lambda x: \"Black Patent Malt\" if \"atent\" in x else x,\n",
        "  lambda x: \"Dextrose\" if \"extrose\" in x else x,\n",
        "  lambda x: \"Brown Sugar\" if \"Brown Sugar\" in x else x,\n",
        "  lambda x: \"Turbinado\" if \"Turbinado\" in x else x,\n",
        "  lambda x: \"Maris Otter\" if \"Maris Otter\" in x else x,\n",
        "  lambda x: \"Carafa\" if \"Carafa\" in x else x,\n",
        "  lambda x: x[:-7] if \" (U.K.)\" in x else x,\n",
        "  lambda x: x.replace(\"American \",\"\"),\n",
        "  lambda x: x.replace(\"German \",\"\"),\n",
        "  lambda x: x.replace(\" (german)\",\"\"),\n",
        "  lambda x: x.replace(\"(late Addition)\",\"\"),\n",
        "  lambda x: x.replace(\"(Late Addition)\",\"\"),\n",
        "  lambda x: x.replace(\"(last 15 Min of Boil)\",\"\"),\n",
        "  lambda x: x.replace(\"(late Addition)\",\"\"),\n",
        "  lambda x: x.replace(\"Canadian \",\"\"),\n",
        "  lambda x: x.replace(\"Thomas Fawcett \",\"\"),\n",
        "  lambda x: x.replace(\"United Kingdom \",\"\"),\n",
        "  lambda x: x.replace(\"New Zealand \",\"\"),\n",
        "  lambda x: x.replace(\"Belgian \",\"\"),\n",
        "  lambda x: x.replace(\"Ireland \",\"\"),\n",
        "  lambda x: x.replace(\"Proximity \",\"\"),\n",
        "  lambda x: x.replace(\"Weyermann \",\"\"),\n",
        "  lambda x: x.replace(\"N/a \",\"\"),\n",
        "  lambda x: x.replace(\"Us \",\"\"),\n",
        "  lambda x: x.replace(\"Briess \",\"\"),\n",
        "]\n",
        "#ok now let's apply each of those lambda functions to the data list thing\n",
        "for x in fermentables_pipeline:\n",
        "  asdfg = list(map(x,asdfg))\n",
        "\n",
        "print(len(np.unique(asdfg)) / asdfg_old)\n",
        "\n",
        "dummies_1 = "
      ],
      "execution_count": 466,
      "outputs": [
        {
          "output_type": "stream",
          "text": [
            "['Crisp Malting - Chocolate Malt', 'Muntons Chocolate Malt', 'Thomas Fawcett - Chocolate Malt', 'Thomas Fawcett Chocolate Malt']\n",
            "0.46959459459459457\n"
          ],
          "name": "stdout"
        }
      ]
    },
    {
      "cell_type": "code",
      "metadata": {
        "id": "45Mkod58lE_w",
        "colab": {
          "base_uri": "https://localhost:8080/"
        },
        "outputId": "918e22a3-7d63-4b4c-931d-31f6bf56fe4a"
      },
      "source": [
        "import string\n",
        "asdf = np.concatenate([item['hops'][item['hops'].columns[1]] for item in test_2])\n",
        "\n",
        "hops_pipeline = [\n",
        "  lambda x: string.capwords(x),\n",
        "  lambda x: \"Caramel / Crystal\" if \"Caramel / Crystal\" in x else x,\n",
        "  lambda x: \"Dr. Rudi\" if \"Dr Rudi\" in x else x,\n",
        "  lambda x: \"Fuggle\" if \"Fuggle\" in x else x,\n",
        "  lambda x: \"Hopshot\" if \"Hopshot\" in x else x,\n",
        "  lambda x: \"Golding\" if \"Golding\" in x else x,\n",
        "  lambda x: \"Warrior\" if \"Warrior\" in x else x,\n",
        "  lambda x: \"Simcoe\" if \"Simcoe\" in x else x,\n",
        "  lambda x: \"Carapils\" if \"Carapils\" in x else x,\n",
        "  lambda x: \"Simcoe\" if \"Simcoe\" in x else x,\n",
        "  lambda x: \"Hallertau\" if \"Hallertau\" in x else x,\n",
        "  lambda x: \"Cascade\" if \"Cascade\" in x else x,\n",
        "  lambda x: \"Columbus\" if \"Columbus\" in x else x,\n",
        "  lambda x: \"Amarillo\" if \"Amarillo\" in x else x,\n",
        "  lambda x: \"Dark Crystal\" if \"Dark Crystal\" in x else x,\n",
        "  lambda x: \"Tettnang\" if \"Tetnang\" in x else x,\n",
        "  lambda x: \"Hop Extract\" if \"Hop Extract\" in x else x,\n",
        "  lambda x: \"Centennial\" if \"Centennial\" in x else x,\n",
        "  lambda x: \"Ctz\" if \"Ctz\" in x else x,\n",
        "  lambda x: \"Saaz\" if \"Saaz\" in x else x,\n",
        "  lambda x: \"Chinook\" if \"Chinook\" in x else x,\n",
        "  lambda x: \"Tetnang\" if \"Tettnang\" in x else x,\n",
        "  lambda x: \"Munich Light\" if \"Light 10l\" in x else x,\n",
        "  lambda x: \"Northern Brewer\" if \"Northern Brewer\" in x else x,\n",
        "  lambda x: x[:-7] if \" (U.K.)\" in x else x,\n",
        "  lambda x: x[21:] if \"Yakima Valley Hops\" in x else x,\n",
        "  lambda x: x[11:] if \"American\" in x else x,\n",
        "  lambda x: x[9:] if \"German - \" in x else x,\n",
        "  lambda x: x[:-9] if \"(german)\" in x else x,\n",
        "  lambda x: x[11:] if \"Canadian\" in x else x,\n",
        "  lambda x: x[17:] if \"United Kingdom\" in x else x,\n",
        "  lambda x: x[3:] if \"Us \" in x else x,\n",
        "  lambda x: x[10:] if \"Belgian\" in x else x\n",
        "  ]\n",
        "\n",
        "  \n",
        "\n",
        "arr = asdf\n",
        "for x in hops_pipeline:\n",
        "  arr = list(map(x,arr))\n",
        "print(np.unique(arr))\n"
      ],
      "execution_count": 358,
      "outputs": [
        {
          "output_type": "stream",
          "text": [
            "['Admiral' 'Ahtanum' 'Amarillo' 'Apollo' 'Aromatic' 'Azacca' 'Biscuit'\n",
            " 'Black Malt' 'Black Patent' 'Bramling Cross' 'Bravo' \"Brewer's Gold\"\n",
            " 'Cacsade' 'Calypso' 'Campden Tablet' 'Carafoam' 'Caramel / Crystal'\n",
            " 'Caramel Wheat' 'Carapils' 'Cascade' 'Centennial' 'Challenger' 'Chinook'\n",
            " 'Chocolate' 'Citra' 'Cluster' 'Columbus' 'Comet'\n",
            " 'Crosby Hop Farm - Denali' 'Crystal' 'Crystal 90l' 'Ctz' 'Dark Crystal'\n",
            " 'De-bittered Black' 'Dr. Rudi' 'El Dorado' 'Flaked Barley' 'Flaked Corn'\n",
            " 'Flaked Oats' 'Fuggle' 'Galaxy' 'German Select' 'Glacier' 'Golding'\n",
            " 'Hallertau' 'Hbc342' 'Hersbrucker' 'Honey Malt' 'Hop Extract' 'Hopshot'\n",
            " 'Horizon' 'Lemon Drop' 'Liberty' 'Magnum' 'Mandarina Bavaria'\n",
            " 'Melanoidin' 'Mosaic' 'Motueka' 'Mount Hood' 'Munich Light'\n",
            " 'Nelson Sauvin' 'Northdown' 'Northern Brewer' 'Nugget' 'Opal'\n",
            " 'Pacific Gem' 'Pale 2-row' 'Pale Chocolate' 'Pearle' 'Pectic Enzyme'\n",
            " 'Perle' 'Phoenix' 'Pride Of Ringwood' 'Rakau' 'Roasted Barley' 'Rye'\n",
            " 'Saaz' 'Saphir' 'Simcoe' 'Smoked Malt' 'Sorachi Ace' 'Southern Cross'\n",
            " 'Southern Passion' 'Spalt' 'Sterling' 'Strisselspalt' 'Summit' 'Target'\n",
            " 'Tetnang' 'Torrified Wheat' 'Tradition' 'Ultra' 'Vic Secret' 'Victory'\n",
            " 'Warrior' 'Wheat Malt' 'Willamette' 'Zeus' 'Zythos']\n"
          ],
          "name": "stdout"
        }
      ]
    },
    {
      "cell_type": "code",
      "metadata": {
        "colab": {
          "base_uri": "https://localhost:8080/",
          "height": 130
        },
        "id": "7eNgrd1bXuM7",
        "outputId": "ce01608c-9ab0-4893-bf3c-0ebb8563b016"
      },
      "source": [
        "dtest_2[5][\"hops\"]"
      ],
      "execution_count": 262,
      "outputs": [
        {
          "output_type": "error",
          "ename": "SyntaxError",
          "evalue": "ignored",
          "traceback": [
            "\u001b[0;36m  File \u001b[0;32m\"<ipython-input-262-4afa73dcafba>\"\u001b[0;36m, line \u001b[0;32m2\u001b[0m\n\u001b[0;31m    cleaned = np.unique(list(map(lambda x: \"Simcoe\" if \"Simcoe\" in x else x, cleaned)))test_2[5][\"hops\"]\u001b[0m\n\u001b[0m                                                                                            ^\u001b[0m\n\u001b[0;31mSyntaxError\u001b[0m\u001b[0;31m:\u001b[0m invalid syntax\n"
          ]
        }
      ]
    },
    {
      "cell_type": "code",
      "metadata": {
        "id": "tZl11Q3jbDYi"
      },
      "source": [
        ""
      ],
      "execution_count": null,
      "outputs": []
    }
  ]
}